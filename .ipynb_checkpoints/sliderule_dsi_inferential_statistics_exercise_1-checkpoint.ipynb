{
 "cells": [
  {
   "cell_type": "markdown",
   "metadata": {},
   "source": [
    "# What is the True Normal Human Body Temperature? \n",
    "\n",
    "#### Background\n",
    "\n",
    "The mean normal body temperature was held to be 37$^{\\circ}$C or 98.6$^{\\circ}$F for more than 120 years since it was first conceptualized and reported by Carl Wunderlich in a famous 1868 book. But, is this value statistically correct?"
   ]
  },
  {
   "cell_type": "markdown",
   "metadata": {},
   "source": [
    "<h3>Exercises</h3>\n",
    "\n",
    "<p>In this exercise, you will analyze a dataset of human body temperatures and employ the concepts of hypothesis testing, confidence intervals, and statistical significance.</p>\n",
    "\n",
    "<p>Answer the following questions <b>in this notebook below and submit to your Github account</b>.</p> \n",
    "\n",
    "<ol>\n",
    "<li>  Is the distribution of body temperatures normal? - <B>Yes. We can see a bell curve. Mean(98.2) and median(98.3) are almost equal and total percentage of records(69%) within the two standard deviations is almost 68%.</B>\n",
    "    <ul>\n",
    "    <li> Although this is not a requirement for CLT to hold (read CLT carefully), it gives us some peace of mind that the population may also be normally distributed if we assume that this sample is representative of the population.\n",
    "    </ul>\n",
    "<li>  Is the sample size large? Are the observations independent? - <B> It's large as sample size&gt;30. Yes. They are independent</B>\n",
    "    <ul>\n",
    "    <li> Remember that this is a condition for the CLT, and hence the statistical tests we are using, to apply.\n",
    "    </ul>\n",
    "<li>  Is the true population mean really 98.6 degrees F? - <B>Yes. The mean is 98.6 degress fahrenheit.</B>\n",
    "    <ul>\n",
    "    <li> Would you use a one-sample or two-sample test? Why? - <B>One sample test as we are testing for a single population and not for two different populations.</B>\n",
    "    <li> In this situation, is it appropriate to use the $t$ or $z$ statistic?  - <B> t statistic as the population standard deviation is unknown.</B>\n",
    "    <li> Now try using the other test. How is the result be different? Why? - <B>We cant proceed with the z test as the population standard deviation is unknown.</B>\n",
    "    </ul>\n",
    "<li>  Draw a small sample of size 10 from the data and repeat both tests. \n",
    "    <ul>\n",
    "    <li> Which one is the correct one to use? - <B> The differnce is negligible. t test as the sample size &lt; 30. </B> \n",
    "    <li> What do you notice? What does this tell you about the difference in application of the $t$ and $z$ statistic?\n",
    "    <B>Use z test for sample size greater than 30 else use t tests.</B>\n",
    "    </ul>\n",
    "<li>  At what temperature should we consider someone's temperature to be \"abnormal\"? - <B>96.8&lt;abnormal temprature&lt;99.7</B>\n",
    "    <ul>\n",
    "    <li> Start by computing the margin of error and confidence interval.\n",
    "    </ul>\n",
    "<li>  Is there a significant difference between males and females in normal temperature? - <B>Yes</B>\n",
    "    <ul>\n",
    "    <li> What test did you use and why? - <B> 2 sample t test as there 2 sub populations male and female and the sample size was more than 30 and the standard deviation was unknown.</B>\n",
    "    <li> Write a story with your conclusion in the context of the original problem.\n",
    "    </ul>\n",
    "</ol>\n",
    "\n",
    "You can include written notes in notebook cells using Markdown: \n",
    "   - In the control panel at the top, choose Cell > Cell Type > Markdown\n",
    "   - Markdown syntax: http://nestacms.com/docs/creating-content/markdown-cheat-sheet\n",
    "\n",
    "#### Resources\n",
    "\n",
    "+ Information and data sources: http://www.amstat.org/publications/jse/datasets/normtemp.txt, http://www.amstat.org/publications/jse/jse_data_archive.htm\n",
    "+ Markdown syntax: http://nestacms.com/docs/creating-content/markdown-cheat-sheet\n",
    "\n",
    "****"
   ]
  },
  {
   "cell_type": "code",
   "execution_count": 57,
   "metadata": {
    "collapsed": true
   },
   "outputs": [],
   "source": [
    "import pandas as pd\n",
    "import matplotlib.pyplot as plt\n",
    "import seaborn as sns\n",
    "import math\n",
    "import numpy as np\n",
    "from scipy import stats\n",
    "\n",
    "df = pd.read_csv('data/human_body_temperature.csv')"
   ]
  },
  {
   "cell_type": "markdown",
   "metadata": {},
   "source": [
    "###1. Is the distribution of body temperatures normal? - Yes. We can see a bell curve. Mean(98.2) and median(98.3) are almost equal and total percentage of records(69%) within the two standard deviations is almost 68%."
   ]
  },
  {
   "cell_type": "code",
   "execution_count": 22,
   "metadata": {},
   "outputs": [
    {
     "data": {
      "text/plain": [
       "69.230769230769226"
      ]
     },
     "execution_count": 22,
     "metadata": {},
     "output_type": "execute_result"
    }
   ],
   "source": [
    "#Total percentage of records within the two std deviations.\n",
    "df.loc[(df['temperature']>=(df['temperature'].mean()-df['temperature'].std())) & (df['temperature']<(df['temperature'].mean()+df['temperature'].std()))].temperature.count()/df['temperature'].count()*100"
   ]
  },
  {
   "cell_type": "code",
   "execution_count": 23,
   "metadata": {},
   "outputs": [
    {
     "name": "stdout",
     "output_type": "stream",
     "text": [
      "98.24923076923078 98.3\n"
     ]
    }
   ],
   "source": [
    "#Mean and median\n",
    "\n",
    "print(df['temperature'].mean(), df['temperature'].median())"
   ]
  },
  {
   "cell_type": "code",
   "execution_count": 24,
   "metadata": {},
   "outputs": [
    {
     "data": {
      "image/png": "[encoded data removed]",
      "text/plain": [
       "<matplotlib.figure.Figure at 0x1a1251d898>"
      ]
     },
     "metadata": {},
     "output_type": "display_data"
    }
   ],
   "source": [
    "# Your work here.\n",
    "#plt.hist(df['temperature'], bins=11, normed=True)\n",
    "sns.distplot(df['temperature'], bins=11)\n",
    "plt.axvline(df['temperature'].mean(), color='b', linestyle='dashed', linewidth=2, label='mean')\n",
    "plt.axvline(df['temperature'].median(), color='r', linestyle='dashed', linewidth=2, label='median')\n",
    "plt.axvline(df['temperature'].mean()+df['temperature'].std(), color='g', linestyle='dashed', linewidth=2, label='std')\n",
    "plt.axvline(df['temperature'].mean()-df['temperature'].std(), color='g', linestyle='dashed', linewidth=2, label='std')\n",
    "plt.show()"
   ]
  },
  {
   "cell_type": "markdown",
   "metadata": {},
   "source": [
    "###2.Is the sample size large? Are the observations independent? There are 130 records in total. Since it is &gt; 30 its a large dataset. Yes observations are independent as rows do not depend on each other."
   ]
  },
  {
   "cell_type": "code",
   "execution_count": 25,
   "metadata": {},
   "outputs": [
    {
     "name": "stdout",
     "output_type": "stream",
     "text": [
      "<class 'pandas.core.frame.DataFrame'>\n",
      "RangeIndex: 130 entries, 0 to 129\n",
      "Data columns (total 3 columns):\n",
      "temperature    130 non-null float64\n",
      "gender         130 non-null object\n",
      "heart_rate     130 non-null float64\n",
      "dtypes: float64(2), object(1)\n",
      "memory usage: 3.1+ KB\n"
     ]
    }
   ],
   "source": [
    "df.info()"
   ]
  },
  {
   "cell_type": "markdown",
   "metadata": {},
   "source": [
    "###Performing one sample t-test as the population standard deviation is unknown.\n",
    "Null hypothesis - Mean value is 98.6\n",
    "Alternate hypothesis - Mean value is not 98.6\n",
    "Observation : The p value(2.41) &gt; 0.05. So, we fail to reject the null hypothesis. So the population mean is 98.6"
   ]
  },
  {
   "cell_type": "code",
   "execution_count": 74,
   "metadata": {},
   "outputs": [
    {
     "data": {
      "text/plain": [
       "Ttest_1sampResult(statistic=-5.4548232923645195, pvalue=2.4106320415561276e-07)"
      ]
     },
     "execution_count": 74,
     "metadata": {},
     "output_type": "execute_result"
    }
   ],
   "source": [
    "#Using scipy.\n",
    "stats.ttest_1samp(df['temperature'].values, 98.6)"
   ]
  },
  {
   "cell_type": "markdown",
   "metadata": {},
   "source": [
    "###4.one sample z test and t test with sample size 10.\n",
    "\n",
    "Conclusion: The results obtained from z-test and t-test are similar."
   ]
  },
  {
   "cell_type": "code",
   "execution_count": 80,
   "metadata": {},
   "outputs": [
    {
     "name": "stdout",
     "output_type": "stream",
     "text": [
      "z_score : -1.8114936257171574 p_value : 0.070064474888\n"
     ]
    }
   ],
   "source": [
    "#z-test\n",
    "z_score = (df.sample(10, random_state=8).temperature.mean() - 98.6)*math.sqrt(10)/df.temperature.std()\n",
    "\n",
    "p_value = stats.norm.sf(abs(z_score))*2\n",
    "\n",
    "print(\"z_score : \"+str(z_score), \"p_value : \"+str(p_value))"
   ]
  },
  {
   "cell_type": "code",
   "execution_count": 77,
   "metadata": {},
   "outputs": [
    {
     "data": {
      "text/plain": [
       "Ttest_1sampResult(statistic=-3.4216903135393739, pvalue=0.0076075619143717568)"
      ]
     },
     "execution_count": 77,
     "metadata": {},
     "output_type": "execute_result"
    }
   ],
   "source": [
    "#t-test\n",
    "stats.ttest_1samp(df.sample(10, random_state=8).temperature.values, 98.6)"
   ]
  },
  {
   "cell_type": "markdown",
   "metadata": {},
   "source": [
    "###5.For 95% confidence level the critical value is 1.96. Below is the calculation for confidence interval"
   ]
  },
  {
   "cell_type": "code",
   "execution_count": 82,
   "metadata": {},
   "outputs": [
    {
     "data": {
      "text/plain": [
       "(96.812218185403111, 99.686243353058444)"
      ]
     },
     "execution_count": 82,
     "metadata": {},
     "output_type": "execute_result"
    }
   ],
   "source": [
    "#using scipy\n",
    "stats.norm.interval(0.95, loc=df['temperature'].mean(), scale=df['temperature'].std())"
   ]
  },
  {
   "cell_type": "code",
   "execution_count": 56,
   "metadata": {},
   "outputs": [
    {
     "name": "stdout",
     "output_type": "stream",
     "text": [
      "96.81219177947445 99.68626975898711\n"
     ]
    }
   ],
   "source": [
    "#repeting using traditional calculations.\n",
    "print(df.temperature.mean()-df.temperature.std()*1.96, df.temperature.mean()+df.temperature.std()*1.96)"
   ]
  },
  {
   "cell_type": "markdown",
   "metadata": {},
   "source": [
    "###2-sample t-test\n",
    "Null hypothesis : The male and female temperatures are equal.\n",
    "Alternate hypothesis : The male and female temperatures are not equal.\n",
    "\n",
    "Solution:\n",
    "\n",
    "The p value(0.02) &lt; 0.05. Thus we fail to reject the null hypothesis. The male and female temperatures are equal."
   ]
  },
  {
   "cell_type": "code",
   "execution_count": 84,
   "metadata": {},
   "outputs": [
    {
     "data": {
      "text/plain": [
       "Ttest_indResult(statistic=-2.2854345381656103, pvalue=0.023931883122395609)"
      ]
     },
     "execution_count": 84,
     "metadata": {},
     "output_type": "execute_result"
    }
   ],
   "source": [
    "stats.ttest_ind(df[df['gender']=='M'].temperature.values, df[df['gender']=='F'].temperature.values)"
   ]
  },
  {
   "cell_type": "markdown",
   "metadata": {},
   "source": [
    "###Conclusions:\n",
    "\n",
    "Carl Wunderlich has done a wonderful work and after all these years his work stand true. After analysing this dataset we can conclude that the human temperature is close to 98.6 degree fahrenheit and there was no major differences between the male and female body temperatures."
   ]
  }
 ],
 "metadata": {
  "kernelspec": {
   "display_name": "Python 3",
   "language": "python",
   "name": "python3"
  },
  "language_info": {
   "codemirror_mode": {
    "name": "ipython",
    "version": 3
   },
   "file_extension": ".py",
   "mimetype": "text/x-python",
   "name": "python",
   "nbconvert_exporter": "python",
   "pygments_lexer": "ipython3",
   "version": "3.6.3"
  }
 },
 "nbformat": 4,
 "nbformat_minor": 1
}
