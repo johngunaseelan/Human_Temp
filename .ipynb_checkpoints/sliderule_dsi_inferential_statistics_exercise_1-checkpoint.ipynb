{
 "cells": [
  {
   "cell_type": "markdown",
   "metadata": {},
   "source": [
    "# What is the True Normal Human Body Temperature? \n",
    "\n",
    "#### Background\n",
    "\n",
    "The mean normal body temperature was held to be 37$^{\\circ}$C or 98.6$^{\\circ}$F for more than 120 years since it was first conceptualized and reported by Carl Wunderlich in a famous 1868 book. But, is this value statistically correct?"
   ]
  },
  {
   "cell_type": "markdown",
   "metadata": {},
   "source": [
    "<h3>Exercises</h3>\n",
    "\n",
    "<p>In this exercise, you will analyze a dataset of human body temperatures and employ the concepts of hypothesis testing, confidence intervals, and statistical significance.</p>\n",
    "\n",
    "<p>Answer the following questions <b>in this notebook below and submit to your Github account</b>.</p> \n",
    "\n",
    "<ol>\n",
    "<li>  Is the distribution of body temperatures normal? - <B>Yes</B>\n",
    "    <ul>\n",
    "    <li> Although this is not a requirement for CLT to hold (read CLT carefully), it gives us some peace of mind that the population may also be normally distributed if we assume that this sample is representative of the population.\n",
    "    </ul>\n",
    "<li>  Is the sample size large? Are the observations independent? - <B> It's large as sample size&gt;30. Yes. They are independent</B>\n",
    "    <ul>\n",
    "    <li> Remember that this is a condition for the CLT, and hence the statistical tests we are using, to apply.\n",
    "    </ul>\n",
    "<li>  Is the true population mean really 98.6 degrees F? - <B>No. Its 98.24</B>\n",
    "    <ul>\n",
    "    <li> Would you use a one-sample or two-sample test? Why? - <B>2 sample test as there are sub populations male and female.</B>\n",
    "    <li> In this situation, is it appropriate to use the $t$ or $z$ statistic?  - <B> z as the sample is large and standard deviation is known. </B>\n",
    "    <li> Now try using the other test. How is the result be different? Why?\n",
    "    </ul>\n",
    "<li>  Draw a small sample of size 10 from the data and repeat both tests. \n",
    "    <ul>\n",
    "    <li> Which one is the correct one to use? - <B> The differnce is negligible. t test as the sample size &lt; 30. </B> \n",
    "    <li> What do you notice? What does this tell you about the difference in application of the $t$ and $z$ statistic?\n",
    "    <B>Use z test for sample size greater than 30 else use t tests.</B>\n",
    "    </ul>\n",
    "<li>  At what temperature should we consider someone's temperature to be \"abnormal\"? - <B>97.5&lt;abnormal temprature&lt;98.5</B>\n",
    "    <ul>\n",
    "    <li> Start by computing the margin of error and confidence interval.\n",
    "    </ul>\n",
    "<li>  Is there a significant difference between males and females in normal temperature? - <B>Yes</B>\n",
    "    <ul>\n",
    "    <li> What test did you use and why? - <B> 2 sample z test as there 2 sub populations male and female and the sample size was more than 30 and the standard deviation was known.</B>\n",
    "    <li> Write a story with your conclusion in the context of the original problem.\n",
    "    </ul>\n",
    "</ol>\n",
    "\n",
    "You can include written notes in notebook cells using Markdown: \n",
    "   - In the control panel at the top, choose Cell > Cell Type > Markdown\n",
    "   - Markdown syntax: http://nestacms.com/docs/creating-content/markdown-cheat-sheet\n",
    "\n",
    "#### Resources\n",
    "\n",
    "+ Information and data sources: http://www.amstat.org/publications/jse/datasets/normtemp.txt, http://www.amstat.org/publications/jse/jse_data_archive.htm\n",
    "+ Markdown syntax: http://nestacms.com/docs/creating-content/markdown-cheat-sheet\n",
    "\n",
    "****"
   ]
  },
  {
   "cell_type": "code",
   "execution_count": 46,
   "metadata": {
    "collapsed": true
   },
   "outputs": [],
   "source": [
    "import pandas as pd\n",
    "import matplotlib.pyplot as plt\n",
    "import seaborn as sns\n",
    "import math\n",
    "import numpy as np\n",
    "\n",
    "df = pd.read_csv('data/human_body_temperature.csv')"
   ]
  },
  {
   "cell_type": "markdown",
   "metadata": {},
   "source": [
    "###1. Is the distribution of body temperatures normal? - Yes"
   ]
  },
  {
   "cell_type": "code",
   "execution_count": 3,
   "metadata": {},
   "outputs": [
    {
     "data": {
      "image/png": "[encoded data removed]",
      "text/plain": [
       "<matplotlib.figure.Figure at 0x1a159c9d68>"
      ]
     },
     "metadata": {},
     "output_type": "display_data"
    }
   ],
   "source": [
    "# Your work here.\n",
    "#plt.hist(df['temperature'], bins=11, normed=True)\n",
    "sns.distplot(df['temperature'], bins=11)\n",
    "plt.axvline(df['temperature'].mean(), color='b', linestyle='dashed', linewidth=2, label='mean')\n",
    "plt.axvline(df['temperature'].median(), color='r', linestyle='dashed', linewidth=2, label='median')\n",
    "plt.show()"
   ]
  },
  {
   "cell_type": "markdown",
   "metadata": {},
   "source": [
    "###2.Is the sample size large? Are the observations independent? There are 130 records in total. Since it is > 30 its a large dataset. Yes observations are independent as rows do not depend on each other."
   ]
  },
  {
   "cell_type": "code",
   "execution_count": 4,
   "metadata": {},
   "outputs": [
    {
     "name": "stdout",
     "output_type": "stream",
     "text": [
      "<class 'pandas.core.frame.DataFrame'>\n",
      "RangeIndex: 130 entries, 0 to 129\n",
      "Data columns (total 3 columns):\n",
      "temperature    130 non-null float64\n",
      "gender         130 non-null object\n",
      "heart_rate     130 non-null float64\n",
      "dtypes: float64(2), object(1)\n",
      "memory usage: 3.1+ KB\n"
     ]
    }
   ],
   "source": [
    "df.info()"
   ]
  },
  {
   "cell_type": "markdown",
   "metadata": {},
   "source": [
    "###3.Is the true population mean really 98.6 degrees F? - No. Its 98.2 degress F.\n",
    "Would you use a one-sample or two-sample test? Why? - Two sample test. As there are two sub populations male and female.\n",
    "In this situation, is it appropriate to use the  tt  or  zz  statistic? - z statistic as population size is greater than 30 and standard deviation of the population is known.\n"
   ]
  },
  {
   "cell_type": "code",
   "execution_count": 5,
   "metadata": {},
   "outputs": [
    {
     "data": {
      "text/plain": [
       "98.24923076923078"
      ]
     },
     "execution_count": 5,
     "metadata": {},
     "output_type": "execute_result"
    }
   ],
   "source": [
    "df['temperature'].mean()"
   ]
  },
  {
   "cell_type": "markdown",
   "metadata": {},
   "source": [
    "###z-test:\n",
    "\n",
    "null hypothesis : male and female temprature means are same.\n",
    "alternate hypothesis : male and female temprature means are different\n",
    "\n",
    "level of significance : 0.05\n",
    "\n",
    "Since the obtained value is less than the critical value -1.645 and the mean temprature of females is higher than mean male temprature. The null hypothesis is rejected and the alternate hypothesis is selected."
   ]
  },
  {
   "cell_type": "code",
   "execution_count": 56,
   "metadata": {},
   "outputs": [
    {
     "data": {
      "text/plain": [
       "-2.285434538165274"
      ]
     },
     "execution_count": 56,
     "metadata": {},
     "output_type": "execute_result"
    }
   ],
   "source": [
    "(df[df['gender']=='M'].temperature.mean() - \n",
    "     df[df['gender']=='F'].temperature.mean())/math.sqrt(\n",
    "        df[df['gender']=='M'].temperature.var()/df[df['gender']=='M'].temperature.count() + \n",
    "        df[df['gender']=='F'].temperature.var()/df[df['gender']=='F'].temperature.count())"
   ]
  },
  {
   "cell_type": "markdown",
   "metadata": {},
   "source": [
    "###Performing z test with sample size as 15"
   ]
  },
  {
   "cell_type": "code",
   "execution_count": 60,
   "metadata": {},
   "outputs": [
    {
     "data": {
      "text/plain": [
       "-1.7967197203163154"
      ]
     },
     "execution_count": 60,
     "metadata": {},
     "output_type": "execute_result"
    }
   ],
   "source": [
    "(df[df['gender']=='M'].sample(15, random_state=5).temperature.mean() - \n",
    "     df[df['gender']=='F'].sample(15, random_state=5).temperature.mean())/math.sqrt(\n",
    "        df[df['gender']=='M'].temperature.var()/15 + \n",
    "        df[df['gender']=='F'].temperature.var()/15)"
   ]
  },
  {
   "cell_type": "code",
   "execution_count": null,
   "metadata": {
    "collapsed": true
   },
   "outputs": [],
   "source": [
    "###Performing t test with sample size as 15"
   ]
  },
  {
   "cell_type": "code",
   "execution_count": 61,
   "metadata": {},
   "outputs": [
    {
     "data": {
      "text/plain": [
       "-1.7504775312345575"
      ]
     },
     "execution_count": 61,
     "metadata": {},
     "output_type": "execute_result"
    }
   ],
   "source": [
    "(df[df['gender']=='M'].sample(15, random_state=5).temperature.mean() - \n",
    "     df[df['gender']=='F'].sample(15, random_state=5).temperature.mean())/math.sqrt(\n",
    "        df[df['gender']=='M'].sample(15, random_state=5).temperature.var()/15 + \n",
    "        df[df['gender']=='F'].sample(15, random_state=5).temperature.var()/15)"
   ]
  },
  {
   "cell_type": "markdown",
   "metadata": {},
   "source": [
    "###Repeating z-test 50 times for more samples"
   ]
  },
  {
   "cell_type": "code",
   "execution_count": null,
   "metadata": {},
   "outputs": [],
   "source": []
  },
  {
   "cell_type": "markdown",
   "metadata": {},
   "source": [
    "###5.At what temperature should we consider someone's temperature to be \"abnormal\"?\n",
    "\n",
    "97.5&lt;temp&lt;98.6"
   ]
  },
  {
   "cell_type": "code",
   "execution_count": 62,
   "metadata": {},
   "outputs": [
    {
     "name": "stdout",
     "output_type": "stream",
     "text": [
      "97.5016279446 98.5983720554\n"
     ]
    }
   ],
   "source": [
    "#Margin of error\n",
    "lowerbound = []\n",
    "upperbound = []\n",
    "\n",
    "for i in range(1, 50):\n",
    "    margin_error = 1.96 * df.sample(10, random_state=1).temperature.std()/math.sqrt(10)\n",
    "    lowerbound.append(df.sample(10, random_state=1).temperature.mean() - margin_error) \n",
    "    upperbound.append(df.sample(10, random_state=1).temperature.mean() + margin_error) \n",
    "\n",
    "print(np.median(lowerbound), np.median(upperbound))"
   ]
  },
  {
   "cell_type": "markdown",
   "metadata": {},
   "source": [
    "###Conclusions:\n",
    "\n",
    "The data was analyzed and the mean temprature was found out to be 98.24. On closer inspection there was a considerable difference between male and female temperatures. The females were having slightly higher temperature than the males. The temperature for the whole population can be considered abnormal if the temprature is less than 97.5 or greater than 98.6."
   ]
  }
 ],
 "metadata": {
  "kernelspec": {
   "display_name": "Python 3",
   "language": "python",
   "name": "python3"
  },
  "language_info": {
   "codemirror_mode": {
    "name": "ipython",
    "version": 3
   },
   "file_extension": ".py",
   "mimetype": "text/x-python",
   "name": "python",
   "nbconvert_exporter": "python",
   "pygments_lexer": "ipython3",
   "version": "3.6.3"
  }
 },
 "nbformat": 4,
 "nbformat_minor": 1
}
